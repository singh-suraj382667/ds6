{
 "cells": [
  {
   "cell_type": "code",
   "execution_count": 1,
   "id": "8231e554",
   "metadata": {},
   "outputs": [],
   "source": [
    "import numpy as np\n",
    "import pandas as pd"
   ]
  },
  {
   "cell_type": "markdown",
   "id": "b3860f43",
   "metadata": {},
   "source": [
    "importing the dataset"
   ]
  },
  {
   "cell_type": "code",
   "execution_count": 2,
   "id": "500c1474",
   "metadata": {},
   "outputs": [],
   "source": [
    "from tensorflow.keras.datasets import mnist"
   ]
  },
  {
   "cell_type": "code",
   "execution_count": 5,
   "id": "850fce14",
   "metadata": {},
   "outputs": [],
   "source": [
    "(Xtrain,ytrain),(Xtest,ytest)=mnist.load_data()"
   ]
  },
  {
   "cell_type": "markdown",
   "id": "74a2f29a",
   "metadata": {},
   "source": [
    "Checking the shapes "
   ]
  },
  {
   "cell_type": "code",
   "execution_count": 8,
   "id": "5d93e2f7",
   "metadata": {},
   "outputs": [
    {
     "data": {
      "text/plain": [
       "(60000, 28, 28)"
      ]
     },
     "execution_count": 8,
     "metadata": {},
     "output_type": "execute_result"
    }
   ],
   "source": [
    "Xtrain.shape"
   ]
  },
  {
   "cell_type": "code",
   "execution_count": 9,
   "id": "70a5f257",
   "metadata": {},
   "outputs": [
    {
     "data": {
      "text/plain": [
       "(10000, 28, 28)"
      ]
     },
     "execution_count": 9,
     "metadata": {},
     "output_type": "execute_result"
    }
   ],
   "source": [
    "Xtest.shape"
   ]
  },
  {
   "cell_type": "code",
   "execution_count": 10,
   "id": "bb610c28",
   "metadata": {},
   "outputs": [
    {
     "data": {
      "text/plain": [
       "(60000,)"
      ]
     },
     "execution_count": 10,
     "metadata": {},
     "output_type": "execute_result"
    }
   ],
   "source": [
    "ytrain.shape"
   ]
  },
  {
   "cell_type": "code",
   "execution_count": 11,
   "id": "e78903ad",
   "metadata": {},
   "outputs": [
    {
     "data": {
      "text/plain": [
       "(10000,)"
      ]
     },
     "execution_count": 11,
     "metadata": {},
     "output_type": "execute_result"
    }
   ],
   "source": [
    "ytest.shape"
   ]
  },
  {
   "cell_type": "markdown",
   "id": "72818733",
   "metadata": {},
   "source": [
    "importing the marplot lib just to see some images "
   ]
  },
  {
   "cell_type": "code",
   "execution_count": 14,
   "id": "cc070198",
   "metadata": {},
   "outputs": [],
   "source": [
    "from matplotlib import pyplot as plt"
   ]
  },
  {
   "cell_type": "code",
   "execution_count": 26,
   "id": "deb18877",
   "metadata": {},
   "outputs": [
    {
     "data": {
      "text/plain": [
       "<matplotlib.image.AxesImage at 0x20c1ab50610>"
      ]
     },
     "execution_count": 26,
     "metadata": {},
     "output_type": "execute_result"
    },
    {
     "data": {
      "image/png": "[encoded data removed]",
      "text/plain": [
       "<Figure size 432x288 with 1 Axes>"
      ]
     },
     "metadata": {
      "needs_background": "light"
     },
     "output_type": "display_data"
    }
   ],
   "source": [
    "plt.imshow(Xtrain[10])"
   ]
  },
  {
   "cell_type": "code",
   "execution_count": 27,
   "id": "878dce55",
   "metadata": {},
   "outputs": [
    {
     "data": {
      "text/plain": [
       "(28, 28)"
      ]
     },
     "execution_count": 27,
     "metadata": {},
     "output_type": "execute_result"
    }
   ],
   "source": [
    "Xtrain[0].shape"
   ]
  },
  {
   "cell_type": "code",
   "execution_count": 28,
   "id": "a6fcb072",
   "metadata": {},
   "outputs": [
    {
     "data": {
      "text/plain": [
       "(28, 28)"
      ]
     },
     "execution_count": 28,
     "metadata": {},
     "output_type": "execute_result"
    }
   ],
   "source": [
    "Xtest[0].shape"
   ]
  },
  {
   "cell_type": "markdown",
   "id": "90500c2a",
   "metadata": {},
   "source": [
    "finding the max of the traning and testing dataset so that we can scale the datasets. "
   ]
  },
  {
   "cell_type": "code",
   "execution_count": 36,
   "id": "57f30d0a",
   "metadata": {},
   "outputs": [
    {
     "data": {
      "text/plain": [
       "255"
      ]
     },
     "execution_count": 36,
     "metadata": {},
     "output_type": "execute_result"
    }
   ],
   "source": [
    "Xtrain.max()"
   ]
  },
  {
   "cell_type": "code",
   "execution_count": 37,
   "id": "e1684393",
   "metadata": {},
   "outputs": [
    {
     "data": {
      "text/plain": [
       "0"
      ]
     },
     "execution_count": 37,
     "metadata": {},
     "output_type": "execute_result"
    }
   ],
   "source": [
    "Xtrain.min()"
   ]
  },
  {
   "cell_type": "code",
   "execution_count": 86,
   "id": "1e001e19",
   "metadata": {},
   "outputs": [
    {
     "data": {
      "text/plain": [
       "255"
      ]
     },
     "execution_count": 86,
     "metadata": {},
     "output_type": "execute_result"
    }
   ],
   "source": [
    "Xtest.max()"
   ]
  },
  {
   "cell_type": "code",
   "execution_count": 87,
   "id": "7f6cebb2",
   "metadata": {},
   "outputs": [
    {
     "data": {
      "text/plain": [
       "0"
      ]
     },
     "execution_count": 87,
     "metadata": {},
     "output_type": "execute_result"
    }
   ],
   "source": [
    "Xtest.min()"
   ]
  },
  {
   "cell_type": "markdown",
   "id": "18fa6bbb",
   "metadata": {},
   "source": [
    "here standardization is done"
   ]
  },
  {
   "cell_type": "code",
   "execution_count": 34,
   "id": "eaf0fe5f",
   "metadata": {},
   "outputs": [],
   "source": [
    "Xtrain_s = Xtrain/255"
   ]
  },
  {
   "cell_type": "code",
   "execution_count": 35,
   "id": "4bf74478",
   "metadata": {},
   "outputs": [],
   "source": [
    "Xtest_s = Xtest/255"
   ]
  },
  {
   "cell_type": "markdown",
   "id": "1e408988",
   "metadata": {},
   "source": [
    "for preparing the model importing one of the model of the keras i.e Sequential"
   ]
  },
  {
   "cell_type": "code",
   "execution_count": 45,
   "id": "1dfd2438",
   "metadata": {},
   "outputs": [],
   "source": [
    "from tensorflow.keras.models import Sequential"
   ]
  },
  {
   "cell_type": "code",
   "execution_count": 40,
   "id": "5dfe6887",
   "metadata": {},
   "outputs": [],
   "source": [
    "from  tensorflow.keras.layers import Dense , Flatten"
   ]
  },
  {
   "cell_type": "code",
   "execution_count": 46,
   "id": "6e8eccd7",
   "metadata": {},
   "outputs": [],
   "source": [
    "model= Sequential()"
   ]
  },
  {
   "cell_type": "markdown",
   "id": "da99a288",
   "metadata": {},
   "source": [
    "first layer that is input layer"
   ]
  },
  {
   "cell_type": "code",
   "execution_count": 48,
   "id": "72045486",
   "metadata": {},
   "outputs": [],
   "source": [
    "model.add(Flatten(input_shape= (28,28)))"
   ]
  },
  {
   "cell_type": "markdown",
   "id": "d3257b45",
   "metadata": {},
   "source": [
    "this is second layer in which no of nodes is given 128 and activation function is relu"
   ]
  },
  {
   "cell_type": "code",
   "execution_count": 49,
   "id": "bf0001c6",
   "metadata": {},
   "outputs": [],
   "source": [
    "model.add(Dense(128,activation = \"relu\"))"
   ]
  },
  {
   "cell_type": "markdown",
   "id": "175ca1dd",
   "metadata": {},
   "source": [
    "this is third layer having same values of second layer"
   ]
  },
  {
   "cell_type": "code",
   "execution_count": 51,
   "id": "5b08848f",
   "metadata": {},
   "outputs": [],
   "source": [
    "model.add(Dense(128, activation =\"relu\"))"
   ]
  },
  {
   "cell_type": "markdown",
   "id": "7aef04ee",
   "metadata": {},
   "source": [
    "this the fourth and last layer of this model"
   ]
  },
  {
   "cell_type": "code",
   "execution_count": 53,
   "id": "021827c4",
   "metadata": {},
   "outputs": [],
   "source": [
    "model.add(Dense(10, activation = \"softmax\"))"
   ]
  },
  {
   "cell_type": "markdown",
   "id": "9a39d685",
   "metadata": {},
   "source": [
    "here compiling the model"
   ]
  },
  {
   "cell_type": "code",
   "execution_count": 60,
   "id": "b28a0a6d",
   "metadata": {},
   "outputs": [],
   "source": [
    "model.compile(optimizer = \"Adam\", loss=\"sparse_categorical_crossentropy\", metrics= [\"accuracy\"])"
   ]
  },
  {
   "cell_type": "code",
   "execution_count": 61,
   "id": "fb25cbd9",
   "metadata": {},
   "outputs": [
    {
     "name": "stdout",
     "output_type": "stream",
     "text": [
      "Epoch 1/10\n",
      "1875/1875 [==============================] - 8s 4ms/step - loss: 0.2299 - accuracy: 0.9320\n",
      "Epoch 2/10\n",
      "1875/1875 [==============================] - 7s 4ms/step - loss: 0.0984 - accuracy: 0.9702\n",
      "Epoch 3/10\n",
      "1875/1875 [==============================] - 7s 4ms/step - loss: 0.0693 - accuracy: 0.9783\n",
      "Epoch 4/10\n",
      "1875/1875 [==============================] - 7s 4ms/step - loss: 0.0528 - accuracy: 0.9836\n",
      "Epoch 5/10\n",
      "1875/1875 [==============================] - 7s 4ms/step - loss: 0.0419 - accuracy: 0.9863\n",
      "Epoch 6/10\n",
      "1875/1875 [==============================] - 7s 4ms/step - loss: 0.0336 - accuracy: 0.9891\n",
      "Epoch 7/10\n",
      "1875/1875 [==============================] - 7s 4ms/step - loss: 0.0280 - accuracy: 0.9913\n",
      "Epoch 8/10\n",
      "1875/1875 [==============================] - 7s 4ms/step - loss: 0.0221 - accuracy: 0.9922\n",
      "Epoch 9/10\n",
      "1875/1875 [==============================] - 7s 4ms/step - loss: 0.0227 - accuracy: 0.9923\n",
      "Epoch 10/10\n",
      "1875/1875 [==============================] - 7s 4ms/step - loss: 0.0190 - accuracy: 0.9938\n"
     ]
    },
    {
     "data": {
      "text/plain": [
       "<keras.callbacks.History at 0x20c63d72fd0>"
      ]
     },
     "execution_count": 61,
     "metadata": {},
     "output_type": "execute_result"
    }
   ],
   "source": [
    "model.fit(Xtrain_s,ytrain, epochs = 10)"
   ]
  },
  {
   "cell_type": "code",
   "execution_count": 69,
   "id": "b1990509",
   "metadata": {},
   "outputs": [],
   "source": [
    "from sklearn.metrics import accuracy_score"
   ]
  },
  {
   "cell_type": "markdown",
   "id": "0d1035af",
   "metadata": {},
   "source": [
    "for getting the y predict, predicting the Xtest_s"
   ]
  },
  {
   "cell_type": "code",
   "execution_count": 70,
   "id": "a82d1e46",
   "metadata": {},
   "outputs": [],
   "source": [
    "ypred = model.predict(Xtest_s)"
   ]
  },
  {
   "cell_type": "code",
   "execution_count": 71,
   "id": "d107340b",
   "metadata": {},
   "outputs": [],
   "source": [
    "ypred  = ypred.argmax(axis = 1)"
   ]
  },
  {
   "cell_type": "markdown",
   "id": "465b666c",
   "metadata": {},
   "source": [
    "comparing the ytest and ypredict"
   ]
  },
  {
   "cell_type": "code",
   "execution_count": 72,
   "id": "c919faca",
   "metadata": {},
   "outputs": [
    {
     "data": {
      "text/plain": [
       "0.9772"
      ]
     },
     "execution_count": 72,
     "metadata": {},
     "output_type": "execute_result"
    }
   ],
   "source": [
    "accuracy_score(ytest,ypred)"
   ]
  },
  {
   "cell_type": "markdown",
   "id": "cc8a4969",
   "metadata": {},
   "source": [
    "here predicting a random row value. here reshape is done b'c this model is trained with "
   ]
  },
  {
   "cell_type": "code",
   "execution_count": 81,
   "id": "b9c87054",
   "metadata": {},
   "outputs": [],
   "source": [
    "p = model.predict(Xtrain[1291].reshape(1,28,28))"
   ]
  },
  {
   "cell_type": "code",
   "execution_count": 82,
   "id": "98c3a252",
   "metadata": {},
   "outputs": [
    {
     "data": {
      "text/plain": [
       "9"
      ]
     },
     "execution_count": 82,
     "metadata": {},
     "output_type": "execute_result"
    }
   ],
   "source": [
    "p.argmax()"
   ]
  },
  {
   "cell_type": "code",
   "execution_count": 83,
   "id": "4f674aec",
   "metadata": {},
   "outputs": [
    {
     "data": {
      "text/plain": [
       "9"
      ]
     },
     "execution_count": 83,
     "metadata": {},
     "output_type": "execute_result"
    }
   ],
   "source": [
    "ytrain[1291]"
   ]
  },
  {
   "cell_type": "markdown",
   "id": "b60633b1",
   "metadata": {},
   "source": [
    "here can be said that this model is working properly"
   ]
  },
  {
   "cell_type": "code",
   "execution_count": null,
   "id": "5fec2f3c",
   "metadata": {},
   "outputs": [],
   "source": []
  }
 ],
 "metadata": {
  "kernelspec": {
   "display_name": "Python 3 (ipykernel)",
   "language": "python",
   "name": "python3"
  },
  "language_info": {
   "codemirror_mode": {
    "name": "ipython",
    "version": 3
   },
   "file_extension": ".py",
   "mimetype": "text/x-python",
   "name": "python",
   "nbconvert_exporter": "python",
   "pygments_lexer": "ipython3",
   "version": "3.9.7"
  }
 },
 "nbformat": 4,
 "nbformat_minor": 5
}
